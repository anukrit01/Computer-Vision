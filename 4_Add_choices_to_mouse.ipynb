{
 "cells": [
  {
   "cell_type": "code",
   "execution_count": null,
   "metadata": {},
   "outputs": [],
   "source": [
    "# Import libraries\n",
    "import cv2\n",
    "import numpy as np\n",
    "\n",
    "# Function\n",
    "def draw_circle(event, x, y, flags, param):\n",
    "    # Left button Down\n",
    "    if event == cv2.EVENT_LBUTTONDOWN:\n",
    "        cv2.circle(img,\n",
    "                  (x, y),\n",
    "                  70,\n",
    "                  (35, 69, 78),\n",
    "                  -1)\n",
    "    # Right button Down\n",
    "    elif event == cv2.EVENT_RBUTTONDOWN:\n",
    "        cv2.circle(img,\n",
    "                  (x, y),\n",
    "                  50,\n",
    "                  (251, 75, 131),\n",
    "                  -1)\n",
    "# Connect the function with the callback\n",
    "cv2.namedWindow(winname='my_draw')\n",
    "\n",
    "# Callback\n",
    "cv2.setMouseCallback('my_draw', draw_circle)\n",
    "\n",
    "# Using OpenCV to show the image\n",
    "img = np.zeros((512, 512, 3),\n",
    "              np.int8)\n",
    "\n",
    "while True:\n",
    "    cv2.imshow('my_draw', img)\n",
    "    if cv2.waitKey(5) & 0xFF == ord('q'):\n",
    "        break\n",
    "\n",
    "cv2.destroyAllWindows()"
   ]
  },
  {
   "cell_type": "code",
   "execution_count": null,
   "metadata": {},
   "outputs": [],
   "source": []
  }
 ],
 "metadata": {
  "kernelspec": {
   "display_name": "Python 3",
   "language": "python",
   "name": "python3"
  },
  "language_info": {
   "codemirror_mode": {
    "name": "ipython",
    "version": 3
   },
   "file_extension": ".py",
   "mimetype": "text/x-python",
   "name": "python",
   "nbconvert_exporter": "python",
   "pygments_lexer": "ipython3",
   "version": "3.7.3"
  }
 },
 "nbformat": 4,
 "nbformat_minor": 2
}
